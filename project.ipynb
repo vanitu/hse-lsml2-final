{
 "cells": [
  {
   "cell_type": "markdown",
   "metadata": {},
   "source": [
    "# LSML2 HSE Final Project\n",
    "\n",
    " - **Models Manegement:** MlFlow\n",
    " - **Web Interface Manegement:** Streamlit App\n",
    " - **ModelAPI**: ML flow serving\n",
    "\n",
    " ## Task\n",
    "\n",
    " Vehicles Damages Detection. \n",
    " Detect vehicle damages using modern CV models\n",
    "\n",
    "## Models\n",
    "\n",
    "Compared Models: Yolo11n, Yolo11s\n",
    "\n",
    "\n",
    " "
   ]
  },
  {
   "cell_type": "markdown",
   "metadata": {},
   "source": [
    "## Service Start With Docker Compose\n",
    "\n"
   ]
  },
  {
   "cell_type": "code",
   "execution_count": null,
   "metadata": {},
   "outputs": [],
   "source": [
    "%%writefile docker-compose.yml\n",
    "version: \"3.7\"\n",
    "\n",
    "services:\n",
    "  mlflow:\n",
    "    build: mlflow\n",
    "    ports:\n",
    "      - 5001:5001\n",
    "    volumes:\n",
    "      - ./mlflow/data:/mldata\n",
    "  webapp:\n",
    "    build: web_app\n",
    "    ports:\n",
    "      - 8501:8501\n"
   ]
  },
  {
   "cell_type": "code",
   "execution_count": 1,
   "metadata": {},
   "outputs": [
    {
     "data": {
      "text/plain": [
       "'cuda'"
      ]
     },
     "execution_count": 1,
     "metadata": {},
     "output_type": "execute_result"
    }
   ],
   "source": [
    "import torch\n",
    "\n",
    "if torch.cuda.is_available():\n",
    "    device=\"cuda\"\n",
    "else:\n",
    "    device=\"cpu\"\n",
    "device    "
   ]
  },
  {
   "cell_type": "markdown",
   "metadata": {},
   "source": [
    "## Dataset\n",
    "\n",
    "https://universe.roboflow.com/claimoo-52a5r/car-damage-detection-20na7/dataset/6"
   ]
  },
  {
   "cell_type": "code",
   "execution_count": 6,
   "metadata": {},
   "outputs": [
    {
     "name": "stdout",
     "output_type": "stream",
     "text": [
      "loading Roboflow workspace...\n",
      "loading Roboflow project...\n"
     ]
    },
    {
     "name": "stderr",
     "output_type": "stream",
     "text": [
      "Downloading Dataset Version Zip in datasets/damage_yolo to yolov11:: 100%|██████████| 116384/116384 [00:18<00:00, 6457.77it/s]"
     ]
    },
    {
     "name": "stdout",
     "output_type": "stream",
     "text": [
      "\n"
     ]
    },
    {
     "name": "stderr",
     "output_type": "stream",
     "text": [
      "\n",
      "Extracting Dataset Version Zip to datasets/damage_yolo in yolov11:: 100%|██████████| 4864/4864 [00:02<00:00, 2198.12it/s]\n"
     ]
    }
   ],
   "source": [
    "## Loading Dataset\n",
    "\n",
    "from roboflow import Roboflow\n",
    "rf = Roboflow(api_key=\"nAWJgGz38EcfJn4sHCZR\")\n",
    "project = rf.workspace(\"ae-43fv6\").project(\"damage-type-nogzj\")\n",
    "version = project.version(4)\n",
    "dataset = version.download(\"yolov11\", 'datasets/damage_yolo')\n"
   ]
  },
  {
   "cell_type": "markdown",
   "metadata": {},
   "source": [
    "# ML Flow"
   ]
  },
  {
   "cell_type": "code",
   "execution_count": 2,
   "metadata": {},
   "outputs": [
    {
     "data": {
      "text/plain": [
       "<Experiment: artifact_location='mlflow-artifacts:/805406121781784106', creation_time=1734295692503, experiment_id='805406121781784106', last_update_time=1734295692503, lifecycle_stage='active', name='damage_detection_yolo', tags={}>"
      ]
     },
     "execution_count": 2,
     "metadata": {},
     "output_type": "execute_result"
    }
   ],
   "source": [
    "import mlflow\n",
    "MLFLOW_SERVER_URL = 'http://localhost:5001/'\n",
    "experiment_name = 'damage_detection_yolo'\n",
    "client = mlflow.tracking.MlflowClient(MLFLOW_SERVER_URL)\n",
    "\n",
    "mlflow.set_tracking_uri(MLFLOW_SERVER_URL)\n",
    "experiment = mlflow.set_experiment(experiment_name)\n",
    "experiment"
   ]
  },
  {
   "cell_type": "markdown",
   "metadata": {},
   "source": [
    "## Load and finetune Yolo Models"
   ]
  },
  {
   "cell_type": "code",
   "execution_count": 2,
   "metadata": {},
   "outputs": [],
   "source": [
    "## Prepare MLFlow Yolo Models Tracking\n",
    "from ultralytics import settings\n",
    "import os\n",
    "\n",
    "os.curdir\n",
    "\n",
    "# Update a setting\n",
    "settings.update({\"mlflow\": True})\n",
    "# os.environ[\"MLFLOW_EXPERIMENT_NAME\"]=experiment_name"
   ]
  },
  {
   "cell_type": "code",
   "execution_count": 8,
   "metadata": {},
   "outputs": [
    {
     "name": "stdout",
     "output_type": "stream",
     "text": [
      "Overwriting damage_dataset.yaml\n"
     ]
    }
   ],
   "source": [
    "%%writefile damage_dataset.yaml\n",
    "\n",
    "path: datasets/damage_yolo # dataset root dir\n",
    "train: train # train images (relative to 'path') 4 images\n",
    "val: valid # val images (relative to 'path') 4 images\n",
    "\n",
    "# Classes (4 classes)\n",
    "names:\n",
    "    0: dent\n",
    "    1: glass_break\n",
    "    2: scratch\n",
    "    3: smash"
   ]
  },
  {
   "cell_type": "code",
   "execution_count": 34,
   "metadata": {},
   "outputs": [],
   "source": [
    "from ultralytics import YOLO\n",
    "\n",
    "VERSION_ALIASES = {\n",
    "    \"production\": \"production\",\n",
    "    \"best_candidate\": \"best_candidate\",\n",
    "    \"archived\": \"archived\",\n",
    "}\n",
    "\n",
    "def train_and_log_to_mlflow(experiment, yolo_model,epochs):\n",
    "    model = YOLO(yolo_model)\n",
    "    with mlflow.start_run() as run:\n",
    "        model.train(\n",
    "            project=experiment.name, # ML FLow Experiment Name\n",
    "            name=run.info.run_name, #ML FLow Run Name\n",
    "            data=\"damage_dataset.yaml\", \n",
    "            device=device,\n",
    "            epochs=epochs, \n",
    "            imgsz=640)\n",
    "\n",
    "def current_prod(experiment_name):\n",
    "    experiment_model = client.get_registered_model(experiment_name)\n",
    "    current_prod = [i for i in experiment_model.latest_versions if i.current_stage == 'Production']\n",
    "    current_prod.sort(key=lambda x: -x.last_updated_timestamp)\n",
    "    if current_prod:\n",
    "        return current_prod[0]\n",
    "    return  None\n",
    "\n",
    "def rc_candidates(experiment):\n",
    "    candidates = []\n",
    "    for run in client.search_runs(experiment.experiment_id):\n",
    "        if 'staging' in run.data.tags and run.data.tags['staging'] != 'rejected':\n",
    "            candidates.append(run)\n",
    "        else:\n",
    "            candidates.append(run)\n",
    "            client.set_tag(run.info.run_id, 'staging', 'rc')\n",
    "    candidates.sort(key=lambda x: -x.data.metrics['metrics/mAP50B'])\n",
    "    return candidates\n",
    "\n",
    "def roll_best_to_staging(experiment):\n",
    "    prod = current_prod(experiment.name)\n",
    "    if prod:\n",
    "        prod_mAP = float(prod.tags['mAP50'])\n",
    "    else:\n",
    "        prod_mAP = 0\n",
    "\n",
    "    candidates = rc_candidates(experiment)\n",
    "    if len(candidates) == 0:\n",
    "        return None\n",
    "    \n",
    "    best = candidates[0]\n",
    "    \n",
    "    # Reject all expcept best\n",
    "    rejected = candidates[1:]\n",
    "    for r in rejected:\n",
    "        client.set_tag(r.info.run_id, 'staging', 'rejected')\n",
    "\n",
    "    if best.data.metrics['metrics/mAP50B'] > prod_mAP:\n",
    "        new_version = create_model_version(best)\n",
    "        client.set_tag(best.info.run_id, 'staging', 'staging')\n",
    "        client.set_registered_model_alias(new_version.name, VERSION_ALIASES['best_candidate'], new_version.version)\n",
    "        return client.get_model_version_by_alias(new_version.name, VERSION_ALIASES['best_candidate'])\n",
    "    else:\n",
    "        client.set_tag(best.info.run_id, 'staging', 'rejected')\n",
    "        return None\n",
    "\n",
    "def create_model_version(run):\n",
    "    epochs = run.data.params['epochs']\n",
    "    mAP50 = run.data.metrics['metrics/mAP50B']\n",
    "    model_src = f\"{run.info.artifact_uri}/weights/best.pt\"\n",
    "    mv = client.create_model_version(experiment.name, model_src, run.info.run_id, tags={'epochs': epochs, 'mAP50': mAP50})\n",
    "    return mv\n",
    "\n",
    "def test_model_performance(model_version):\n",
    "    model = YOLO(mlflow.artifacts.download_artifacts(model_version.source))\n",
    "    metrics = model.val()\n",
    "    return metrics.results_dict\n",
    "\n",
    "def prepdoduction_test(model_version):\n",
    "    production = current_prod(model_version.name)\n",
    "    model_performance = test_model_performance(model_version)\n",
    "    client.set_model_version_tag(model_version.name, model_version.version, 'test_mAP50', model_performance['metrics/mAP50(B)'])\n",
    "    if production and 'test_mAP50' in production.tags and production.tags['test_mAP50'] < model_performance['metrics/mAP50(B)']:\n",
    "        return True\n",
    "    else: \n",
    "        return True                                                                    \n",
    "\n",
    "\n",
    "def roll_to_production(model_version):\n",
    "    # Mark model as production\n",
    "    client.set_registered_model_alias(model_version.name, VERSION_ALIASES['production'], model_version.version)\n",
    "    client.transition_model_version_stage(model_version.name, model_version.version, 'Production', True)\n",
    "    return model_version\n",
    "\n",
    "# Model staging->production cycle\n",
    "def perform_deployment(experiment):\n",
    "    version = roll_best_to_staging(experiment)\n",
    "    if version is None:\n",
    "        print('Nothing to deploy')\n",
    "        return False\n",
    "    if prepdoduction_test(version) == False:\n",
    "        print('Test failed')\n",
    "        return False\n",
    "    else:\n",
    "        roll_to_production(version)\n",
    "        return True\n"
   ]
  },
  {
   "cell_type": "code",
   "execution_count": 26,
   "metadata": {},
   "outputs": [
    {
     "name": "stderr",
     "output_type": "stream",
     "text": [
      "2024/12/16 16:53:36 INFO mlflow.store.model_registry.abstract_store: Waiting up to 300 seconds for model version to finish creation. Model name: damage_detection_yolo, version 9\n",
      "C:\\Users\\no\\AppData\\Local\\Temp\\ipykernel_15576\\2187066677.py:92: FutureWarning: ``mlflow.tracking.client.MlflowClient.transition_model_version_stage`` is deprecated since 2.9.0. Model registry stages will be removed in a future major release. To learn more about the deprecation of model registry stages, see our migration guide here: https://mlflow.org/docs/latest/model-registry.html#migrating-from-stages\n",
      "  client.transition_model_version_stage(model_version.name, model_version.version, 'Production', True)\n"
     ]
    },
    {
     "data": {
      "text/plain": [
       "True"
      ]
     },
     "execution_count": 26,
     "metadata": {},
     "output_type": "execute_result"
    }
   ],
   "source": [
    "# Perform deployment\n",
    "perform_deployment(experiment)"
   ]
  },
  {
   "cell_type": "code",
   "execution_count": null,
   "metadata": {},
   "outputs": [
    {
     "name": "stdout",
     "output_type": "stream",
     "text": [
      "Nothing to deploy\n"
     ]
    },
    {
     "data": {
      "text/plain": [
       "False"
      ]
     },
     "execution_count": 33,
     "metadata": {},
     "output_type": "execute_result"
    }
   ],
   "source": [
    "# No new best candidates \n",
    "perform_deployment(experiment)"
   ]
  },
  {
   "cell_type": "markdown",
   "metadata": {},
   "source": [
    "# Reload / Start Model API Service "
   ]
  }
 ],
 "metadata": {
  "kernelspec": {
   "display_name": ".venv",
   "language": "python",
   "name": "python3"
  },
  "language_info": {
   "codemirror_mode": {
    "name": "ipython",
    "version": 3
   },
   "file_extension": ".py",
   "mimetype": "text/x-python",
   "name": "python",
   "nbconvert_exporter": "python",
   "pygments_lexer": "ipython3",
   "version": "3.10.11"
  }
 },
 "nbformat": 4,
 "nbformat_minor": 2
}
